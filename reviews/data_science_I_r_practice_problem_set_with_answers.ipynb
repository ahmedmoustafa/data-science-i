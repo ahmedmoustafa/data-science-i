{
  "nbformat": 4,
  "nbformat_minor": 0,
  "metadata": {
    "colab": {
      "provenance": []
    },
    "kernelspec": {
      "name": "ir",
      "display_name": "R"
    },
    "language_info": {
      "name": "R"
    }
  },
  "cells": [
    {
      "cell_type": "markdown",
      "source": [
        "# Data Science I\n",
        "## Getting Started with R Problem Set - Answers"
      ],
      "metadata": {
        "id": "JNctiA-PfLfk"
      }
    },
    {
      "cell_type": "markdown",
      "source": [
        "### 1. Given a vector `v` with values `[1, 2, 3, 4, 5]`, what will be the output of the expression `v[v > 3]`?"
      ],
      "metadata": {
        "id": "BMcGgTBHTg4C"
      }
    },
    {
      "cell_type": "code",
      "execution_count": 1,
      "metadata": {
        "colab": {
          "base_uri": "https://localhost:8080/",
          "height": 34
        },
        "id": "JhgASZr5TWSA",
        "outputId": "a62ba263-3b67-48a3-8aa7-9e9c469b64bc"
      },
      "outputs": [
        {
          "output_type": "display_data",
          "data": {
            "text/html": [
              "<style>\n",
              ".list-inline {list-style: none; margin:0; padding: 0}\n",
              ".list-inline>li {display: inline-block}\n",
              ".list-inline>li:not(:last-child)::after {content: \"\\00b7\"; padding: 0 .5ex}\n",
              "</style>\n",
              "<ol class=list-inline><li>1</li><li>2</li><li>3</li><li>4</li><li>5</li></ol>\n"
            ],
            "text/markdown": "1. 1\n2. 2\n3. 3\n4. 4\n5. 5\n\n\n",
            "text/latex": "\\begin{enumerate*}\n\\item 1\n\\item 2\n\\item 3\n\\item 4\n\\item 5\n\\end{enumerate*}\n",
            "text/plain": [
              "[1] 1 2 3 4 5"
            ]
          },
          "metadata": {}
        }
      ],
      "source": [
        "v = c(1, 2, 3, 4, 5)\n",
        "v"
      ]
    },
    {
      "cell_type": "code",
      "source": [
        "v[v > 3]"
      ],
      "metadata": {
        "colab": {
          "base_uri": "https://localhost:8080/",
          "height": 34
        },
        "id": "SKVeks3ZTmBI",
        "outputId": "4f36d33b-d437-42b9-f565-cb91f68e1698"
      },
      "execution_count": 2,
      "outputs": [
        {
          "output_type": "display_data",
          "data": {
            "text/html": [
              "<style>\n",
              ".list-inline {list-style: none; margin:0; padding: 0}\n",
              ".list-inline>li {display: inline-block}\n",
              ".list-inline>li:not(:last-child)::after {content: \"\\00b7\"; padding: 0 .5ex}\n",
              "</style>\n",
              "<ol class=list-inline><li>4</li><li>5</li></ol>\n"
            ],
            "text/markdown": "1. 4\n2. 5\n\n\n",
            "text/latex": "\\begin{enumerate*}\n\\item 4\n\\item 5\n\\end{enumerate*}\n",
            "text/plain": [
              "[1] 4 5"
            ]
          },
          "metadata": {}
        }
      ]
    },
    {
      "cell_type": "markdown",
      "source": [
        "### 2. Create a matrix `m` of dimensions $3\\times3$ with elements from $1$ to $9$. What will be the output of `m[2,]`?"
      ],
      "metadata": {
        "id": "5P1dDpHsT5Ib"
      }
    },
    {
      "cell_type": "code",
      "source": [
        "m = matrix(1:9, nrow = 3)\n",
        "m"
      ],
      "metadata": {
        "colab": {
          "base_uri": "https://localhost:8080/",
          "height": 163
        },
        "id": "A2bYkFE8TsJ3",
        "outputId": "d6c9ec89-85a1-4da1-bb1c-8e0ec1dc3979"
      },
      "execution_count": 3,
      "outputs": [
        {
          "output_type": "display_data",
          "data": {
            "text/html": [
              "<table class=\"dataframe\">\n",
              "<caption>A matrix: 3 × 3 of type int</caption>\n",
              "<tbody>\n",
              "\t<tr><td>1</td><td>4</td><td>7</td></tr>\n",
              "\t<tr><td>2</td><td>5</td><td>8</td></tr>\n",
              "\t<tr><td>3</td><td>6</td><td>9</td></tr>\n",
              "</tbody>\n",
              "</table>\n"
            ],
            "text/markdown": "\nA matrix: 3 × 3 of type int\n\n| 1 | 4 | 7 |\n| 2 | 5 | 8 |\n| 3 | 6 | 9 |\n\n",
            "text/latex": "A matrix: 3 × 3 of type int\n\\begin{tabular}{lll}\n\t 1 & 4 & 7\\\\\n\t 2 & 5 & 8\\\\\n\t 3 & 6 & 9\\\\\n\\end{tabular}\n",
            "text/plain": [
              "     [,1] [,2] [,3]\n",
              "[1,] 1    4    7   \n",
              "[2,] 2    5    8   \n",
              "[3,] 3    6    9   "
            ]
          },
          "metadata": {}
        }
      ]
    },
    {
      "cell_type": "code",
      "source": [
        "m[2, ]"
      ],
      "metadata": {
        "colab": {
          "base_uri": "https://localhost:8080/",
          "height": 34
        },
        "id": "0kZNzPkET-F-",
        "outputId": "5203d18f-17c2-4390-d6ba-4473b87455cd"
      },
      "execution_count": 4,
      "outputs": [
        {
          "output_type": "display_data",
          "data": {
            "text/html": [
              "<style>\n",
              ".list-inline {list-style: none; margin:0; padding: 0}\n",
              ".list-inline>li {display: inline-block}\n",
              ".list-inline>li:not(:last-child)::after {content: \"\\00b7\"; padding: 0 .5ex}\n",
              "</style>\n",
              "<ol class=list-inline><li>2</li><li>5</li><li>8</li></ol>\n"
            ],
            "text/markdown": "1. 2\n2. 5\n3. 8\n\n\n",
            "text/latex": "\\begin{enumerate*}\n\\item 2\n\\item 5\n\\item 8\n\\end{enumerate*}\n",
            "text/plain": [
              "[1] 2 5 8"
            ]
          },
          "metadata": {}
        }
      ]
    },
    {
      "cell_type": "markdown",
      "source": [
        "### 3. Given a data frame `df` with two columns: `Name` and `Age`. If Name has values `['Tom', 'Jerry', 'Mickey']` and Age has values `[25, 22, 30]`, what will be the output of the expression `df[df$Age > 24,]`?"
      ],
      "metadata": {
        "id": "WguFc0JnUBMo"
      }
    },
    {
      "cell_type": "code",
      "source": [
        "df = data.frame (Name = c('Tom', 'Jerry', 'Mickey'), Age = c(25, 22, 30))\n",
        "df"
      ],
      "metadata": {
        "colab": {
          "base_uri": "https://localhost:8080/",
          "height": 209
        },
        "id": "xOCOEDv7T_Li",
        "outputId": "aa6f2e03-8096-4861-cb9a-56936d83027e"
      },
      "execution_count": 5,
      "outputs": [
        {
          "output_type": "display_data",
          "data": {
            "text/html": [
              "<table class=\"dataframe\">\n",
              "<caption>A data.frame: 3 × 2</caption>\n",
              "<thead>\n",
              "\t<tr><th scope=col>Name</th><th scope=col>Age</th></tr>\n",
              "\t<tr><th scope=col>&lt;chr&gt;</th><th scope=col>&lt;dbl&gt;</th></tr>\n",
              "</thead>\n",
              "<tbody>\n",
              "\t<tr><td>Tom   </td><td>25</td></tr>\n",
              "\t<tr><td>Jerry </td><td>22</td></tr>\n",
              "\t<tr><td>Mickey</td><td>30</td></tr>\n",
              "</tbody>\n",
              "</table>\n"
            ],
            "text/markdown": "\nA data.frame: 3 × 2\n\n| Name &lt;chr&gt; | Age &lt;dbl&gt; |\n|---|---|\n| Tom    | 25 |\n| Jerry  | 22 |\n| Mickey | 30 |\n\n",
            "text/latex": "A data.frame: 3 × 2\n\\begin{tabular}{ll}\n Name & Age\\\\\n <chr> & <dbl>\\\\\n\\hline\n\t Tom    & 25\\\\\n\t Jerry  & 22\\\\\n\t Mickey & 30\\\\\n\\end{tabular}\n",
            "text/plain": [
              "  Name   Age\n",
              "1 Tom    25 \n",
              "2 Jerry  22 \n",
              "3 Mickey 30 "
            ]
          },
          "metadata": {}
        }
      ]
    },
    {
      "cell_type": "code",
      "source": [
        "df[df$Age > 24,]"
      ],
      "metadata": {
        "colab": {
          "base_uri": "https://localhost:8080/",
          "height": 161
        },
        "id": "qU9P3Y1gULco",
        "outputId": "188b1b07-7f92-4b0c-e63f-ad6a0e7ab0dc"
      },
      "execution_count": 6,
      "outputs": [
        {
          "output_type": "display_data",
          "data": {
            "text/html": [
              "<table class=\"dataframe\">\n",
              "<caption>A data.frame: 2 × 2</caption>\n",
              "<thead>\n",
              "\t<tr><th></th><th scope=col>Name</th><th scope=col>Age</th></tr>\n",
              "\t<tr><th></th><th scope=col>&lt;chr&gt;</th><th scope=col>&lt;dbl&gt;</th></tr>\n",
              "</thead>\n",
              "<tbody>\n",
              "\t<tr><th scope=row>1</th><td>Tom   </td><td>25</td></tr>\n",
              "\t<tr><th scope=row>3</th><td>Mickey</td><td>30</td></tr>\n",
              "</tbody>\n",
              "</table>\n"
            ],
            "text/markdown": "\nA data.frame: 2 × 2\n\n| <!--/--> | Name &lt;chr&gt; | Age &lt;dbl&gt; |\n|---|---|---|\n| 1 | Tom    | 25 |\n| 3 | Mickey | 30 |\n\n",
            "text/latex": "A data.frame: 2 × 2\n\\begin{tabular}{r|ll}\n  & Name & Age\\\\\n  & <chr> & <dbl>\\\\\n\\hline\n\t1 & Tom    & 25\\\\\n\t3 & Mickey & 30\\\\\n\\end{tabular}\n",
            "text/plain": [
              "  Name   Age\n",
              "1 Tom    25 \n",
              "3 Mickey 30 "
            ]
          },
          "metadata": {}
        }
      ]
    },
    {
      "cell_type": "markdown",
      "source": [
        "### 4. What will be the output of the function call `seq(2, 10, by=3)`?"
      ],
      "metadata": {
        "id": "Luc-gcfmUOWg"
      }
    },
    {
      "cell_type": "code",
      "source": [
        "seq(2, 10, by=3)"
      ],
      "metadata": {
        "colab": {
          "base_uri": "https://localhost:8080/",
          "height": 34
        },
        "id": "azZAdC7tUNh9",
        "outputId": "90bee6f2-2119-4b7e-82cc-a066c9f2eda2"
      },
      "execution_count": 7,
      "outputs": [
        {
          "output_type": "display_data",
          "data": {
            "text/html": [
              "<style>\n",
              ".list-inline {list-style: none; margin:0; padding: 0}\n",
              ".list-inline>li {display: inline-block}\n",
              ".list-inline>li:not(:last-child)::after {content: \"\\00b7\"; padding: 0 .5ex}\n",
              "</style>\n",
              "<ol class=list-inline><li>2</li><li>5</li><li>8</li></ol>\n"
            ],
            "text/markdown": "1. 2\n2. 5\n3. 8\n\n\n",
            "text/latex": "\\begin{enumerate*}\n\\item 2\n\\item 5\n\\item 8\n\\end{enumerate*}\n",
            "text/plain": [
              "[1] 2 5 8"
            ]
          },
          "metadata": {}
        }
      ]
    },
    {
      "cell_type": "markdown",
      "source": [
        "### 5. Given a vector `v = c(10, 20, 10, 40, 50)`, what will be the output of `which(v == 10) `?"
      ],
      "metadata": {
        "id": "pILFKTqnUR06"
      }
    },
    {
      "cell_type": "code",
      "source": [
        "v = c(10, 20, 10, 40, 50)\n",
        "v"
      ],
      "metadata": {
        "colab": {
          "base_uri": "https://localhost:8080/",
          "height": 34
        },
        "id": "fGnZ0WQ3URXO",
        "outputId": "c812f67d-0445-4f89-9034-09a631815579"
      },
      "execution_count": 8,
      "outputs": [
        {
          "output_type": "display_data",
          "data": {
            "text/html": [
              "<style>\n",
              ".list-inline {list-style: none; margin:0; padding: 0}\n",
              ".list-inline>li {display: inline-block}\n",
              ".list-inline>li:not(:last-child)::after {content: \"\\00b7\"; padding: 0 .5ex}\n",
              "</style>\n",
              "<ol class=list-inline><li>10</li><li>20</li><li>10</li><li>40</li><li>50</li></ol>\n"
            ],
            "text/markdown": "1. 10\n2. 20\n3. 10\n4. 40\n5. 50\n\n\n",
            "text/latex": "\\begin{enumerate*}\n\\item 10\n\\item 20\n\\item 10\n\\item 40\n\\item 50\n\\end{enumerate*}\n",
            "text/plain": [
              "[1] 10 20 10 40 50"
            ]
          },
          "metadata": {}
        }
      ]
    },
    {
      "cell_type": "code",
      "source": [
        "which(v == 10)"
      ],
      "metadata": {
        "colab": {
          "base_uri": "https://localhost:8080/",
          "height": 34
        },
        "id": "2rukChZCUVIT",
        "outputId": "93a90ecd-6d42-4903-dbc4-d3a32171d622"
      },
      "execution_count": 9,
      "outputs": [
        {
          "output_type": "display_data",
          "data": {
            "text/html": [
              "<style>\n",
              ".list-inline {list-style: none; margin:0; padding: 0}\n",
              ".list-inline>li {display: inline-block}\n",
              ".list-inline>li:not(:last-child)::after {content: \"\\00b7\"; padding: 0 .5ex}\n",
              "</style>\n",
              "<ol class=list-inline><li>1</li><li>3</li></ol>\n"
            ],
            "text/markdown": "1. 1\n2. 3\n\n\n",
            "text/latex": "\\begin{enumerate*}\n\\item 1\n\\item 3\n\\end{enumerate*}\n",
            "text/plain": [
              "[1] 1 3"
            ]
          },
          "metadata": {}
        }
      ]
    },
    {
      "cell_type": "markdown",
      "source": [
        "### 6. Given the same vector `v`, what will be the output of `sort(v, decreasing = TRUE)`?"
      ],
      "metadata": {
        "id": "_5Pw-VENUY4L"
      }
    },
    {
      "cell_type": "code",
      "source": [
        "sort(v, decreasing = TRUE)"
      ],
      "metadata": {
        "colab": {
          "base_uri": "https://localhost:8080/",
          "height": 34
        },
        "id": "GWOe54ynUXKo",
        "outputId": "9ed056a0-ed3b-476f-e95f-8a2bbe0f13a8"
      },
      "execution_count": 10,
      "outputs": [
        {
          "output_type": "display_data",
          "data": {
            "text/html": [
              "<style>\n",
              ".list-inline {list-style: none; margin:0; padding: 0}\n",
              ".list-inline>li {display: inline-block}\n",
              ".list-inline>li:not(:last-child)::after {content: \"\\00b7\"; padding: 0 .5ex}\n",
              "</style>\n",
              "<ol class=list-inline><li>50</li><li>40</li><li>20</li><li>10</li><li>10</li></ol>\n"
            ],
            "text/markdown": "1. 50\n2. 40\n3. 20\n4. 10\n5. 10\n\n\n",
            "text/latex": "\\begin{enumerate*}\n\\item 50\n\\item 40\n\\item 20\n\\item 10\n\\item 10\n\\end{enumerate*}\n",
            "text/plain": [
              "[1] 50 40 20 10 10"
            ]
          },
          "metadata": {}
        }
      ]
    },
    {
      "cell_type": "markdown",
      "source": [
        "### 7. Using the same vector `v`, what will be the output of `order(v)`?"
      ],
      "metadata": {
        "id": "-OLmRYDnUgPe"
      }
    },
    {
      "cell_type": "code",
      "source": [
        "order(v)"
      ],
      "metadata": {
        "colab": {
          "base_uri": "https://localhost:8080/",
          "height": 34
        },
        "id": "c4hGsxUgUffs",
        "outputId": "155fb5ba-b6d5-4139-c130-614db18fa9f5"
      },
      "execution_count": 11,
      "outputs": [
        {
          "output_type": "display_data",
          "data": {
            "text/html": [
              "<style>\n",
              ".list-inline {list-style: none; margin:0; padding: 0}\n",
              ".list-inline>li {display: inline-block}\n",
              ".list-inline>li:not(:last-child)::after {content: \"\\00b7\"; padding: 0 .5ex}\n",
              "</style>\n",
              "<ol class=list-inline><li>1</li><li>3</li><li>2</li><li>4</li><li>5</li></ol>\n"
            ],
            "text/markdown": "1. 1\n2. 3\n3. 2\n4. 4\n5. 5\n\n\n",
            "text/latex": "\\begin{enumerate*}\n\\item 1\n\\item 3\n\\item 2\n\\item 4\n\\item 5\n\\end{enumerate*}\n",
            "text/plain": [
              "[1] 1 3 2 4 5"
            ]
          },
          "metadata": {}
        }
      ]
    },
    {
      "cell_type": "code",
      "source": [],
      "metadata": {
        "id": "z4-3pjQvUi_v"
      },
      "execution_count": 12,
      "outputs": []
    },
    {
      "cell_type": "markdown",
      "source": [
        "### 8. What will be the result of the expression ` startsWith(\"Hello\", \"He\") `?"
      ],
      "metadata": {
        "id": "HbBaMXYaUj1c"
      }
    },
    {
      "cell_type": "code",
      "source": [
        "startsWith(\"Hello\", \"He\")"
      ],
      "metadata": {
        "colab": {
          "base_uri": "https://localhost:8080/",
          "height": 34
        },
        "id": "34qVGnhYUlZx",
        "outputId": "d6017073-6155-4abc-fa64-19a71661b487"
      },
      "execution_count": 13,
      "outputs": [
        {
          "output_type": "display_data",
          "data": {
            "text/html": [
              "TRUE"
            ],
            "text/markdown": "TRUE",
            "text/latex": "TRUE",
            "text/plain": [
              "[1] TRUE"
            ]
          },
          "metadata": {}
        }
      ]
    },
    {
      "cell_type": "markdown",
      "source": [
        "### 9. Given a matrix `m` of dimensions $2\\times3$ with elements from $1$ to $6$. What will be the output of the expression `m[1, 2] > m[2, 1]`?"
      ],
      "metadata": {
        "id": "uVppGHBkUngk"
      }
    },
    {
      "cell_type": "code",
      "source": [
        "m = matrix(1:6, nrow = 2)\n",
        "m"
      ],
      "metadata": {
        "colab": {
          "base_uri": "https://localhost:8080/",
          "height": 132
        },
        "id": "Z0rMd5T8UmaT",
        "outputId": "5f64ba9e-c652-42c5-eef2-8b8b6e8cef1a"
      },
      "execution_count": 14,
      "outputs": [
        {
          "output_type": "display_data",
          "data": {
            "text/html": [
              "<table class=\"dataframe\">\n",
              "<caption>A matrix: 2 × 3 of type int</caption>\n",
              "<tbody>\n",
              "\t<tr><td>1</td><td>3</td><td>5</td></tr>\n",
              "\t<tr><td>2</td><td>4</td><td>6</td></tr>\n",
              "</tbody>\n",
              "</table>\n"
            ],
            "text/markdown": "\nA matrix: 2 × 3 of type int\n\n| 1 | 3 | 5 |\n| 2 | 4 | 6 |\n\n",
            "text/latex": "A matrix: 2 × 3 of type int\n\\begin{tabular}{lll}\n\t 1 & 3 & 5\\\\\n\t 2 & 4 & 6\\\\\n\\end{tabular}\n",
            "text/plain": [
              "     [,1] [,2] [,3]\n",
              "[1,] 1    3    5   \n",
              "[2,] 2    4    6   "
            ]
          },
          "metadata": {}
        }
      ]
    },
    {
      "cell_type": "code",
      "source": [
        "m[1, 2]"
      ],
      "metadata": {
        "colab": {
          "base_uri": "https://localhost:8080/",
          "height": 34
        },
        "id": "q8LNiySjUueJ",
        "outputId": "90817607-eb46-4eaa-c31d-8b009b52a255"
      },
      "execution_count": 15,
      "outputs": [
        {
          "output_type": "display_data",
          "data": {
            "text/html": [
              "3"
            ],
            "text/markdown": "3",
            "text/latex": "3",
            "text/plain": [
              "[1] 3"
            ]
          },
          "metadata": {}
        }
      ]
    },
    {
      "cell_type": "code",
      "source": [
        "m[2, 1]"
      ],
      "metadata": {
        "colab": {
          "base_uri": "https://localhost:8080/",
          "height": 34
        },
        "id": "W7WkeYePUwVh",
        "outputId": "e16d9995-19cd-447a-f354-48b4a7e0e6b0"
      },
      "execution_count": 16,
      "outputs": [
        {
          "output_type": "display_data",
          "data": {
            "text/html": [
              "2"
            ],
            "text/markdown": "2",
            "text/latex": "2",
            "text/plain": [
              "[1] 2"
            ]
          },
          "metadata": {}
        }
      ]
    },
    {
      "cell_type": "code",
      "source": [
        "m[1, 2] > m[2, 1]"
      ],
      "metadata": {
        "colab": {
          "base_uri": "https://localhost:8080/",
          "height": 34
        },
        "id": "_3biK7ZxUxo3",
        "outputId": "30c52da7-6a5b-494a-d26e-1295bba9c57d"
      },
      "execution_count": 17,
      "outputs": [
        {
          "output_type": "display_data",
          "data": {
            "text/html": [
              "TRUE"
            ],
            "text/markdown": "TRUE",
            "text/latex": "TRUE",
            "text/plain": [
              "[1] TRUE"
            ]
          },
          "metadata": {}
        }
      ]
    },
    {
      "cell_type": "markdown",
      "source": [
        "### 10. Identify the logical error in the following code:\n",
        "\n",
        "```R\n",
        "x <- c(1, 2, 3, 4, 5)\n",
        "y <- x[6]\n",
        "print(y)\n",
        "```"
      ],
      "metadata": {
        "id": "pXsWD2_ZUnAc"
      }
    },
    {
      "cell_type": "code",
      "source": [
        "x <- c(1, 2, 3, 4, 5)\n",
        "y <- x[6] # index out of range\n",
        "print(y)"
      ],
      "metadata": {
        "colab": {
          "base_uri": "https://localhost:8080/"
        },
        "id": "i7eCHoL-U2dL",
        "outputId": "dcc60afa-7d72-4f5f-a7f2-a0796d075f17"
      },
      "execution_count": 18,
      "outputs": [
        {
          "output_type": "stream",
          "name": "stdout",
          "text": [
            "[1] NA\n"
          ]
        }
      ]
    },
    {
      "cell_type": "markdown",
      "source": [
        "### 11. What will be the result of the expression `startsWith(\"world\", \"Hello\")`?"
      ],
      "metadata": {
        "id": "7bZpMZE8U7bM"
      }
    },
    {
      "cell_type": "code",
      "source": [
        "startsWith(\"world\", \"Hello\")"
      ],
      "metadata": {
        "colab": {
          "base_uri": "https://localhost:8080/",
          "height": 34
        },
        "id": "liQt1M4WU462",
        "outputId": "ec621d67-9712-44fb-8f07-2aab14ed1c54"
      },
      "execution_count": 19,
      "outputs": [
        {
          "output_type": "display_data",
          "data": {
            "text/html": [
              "FALSE"
            ],
            "text/markdown": "FALSE",
            "text/latex": "FALSE",
            "text/plain": [
              "[1] FALSE"
            ]
          },
          "metadata": {}
        }
      ]
    },
    {
      "cell_type": "markdown",
      "source": [
        "### 12. Given a matrix `m` with values:\n",
        "```{R}\n",
        "1 2 3\n",
        "4 5 6\n",
        "7 8 9\n",
        "```\n",
        "\n",
        "### What will be the output of `m[2:3, 1:2]`?"
      ],
      "metadata": {
        "id": "YVqBWs1gU_J6"
      }
    },
    {
      "cell_type": "code",
      "source": [
        "m = matrix (1:9, nrow = 3, byrow = TRUE)\n",
        "m"
      ],
      "metadata": {
        "colab": {
          "base_uri": "https://localhost:8080/",
          "height": 163
        },
        "id": "w_LTSpzbU-Q-",
        "outputId": "f35b206e-566d-4b76-8398-c2d18504edbd"
      },
      "execution_count": 20,
      "outputs": [
        {
          "output_type": "display_data",
          "data": {
            "text/html": [
              "<table class=\"dataframe\">\n",
              "<caption>A matrix: 3 × 3 of type int</caption>\n",
              "<tbody>\n",
              "\t<tr><td>1</td><td>2</td><td>3</td></tr>\n",
              "\t<tr><td>4</td><td>5</td><td>6</td></tr>\n",
              "\t<tr><td>7</td><td>8</td><td>9</td></tr>\n",
              "</tbody>\n",
              "</table>\n"
            ],
            "text/markdown": "\nA matrix: 3 × 3 of type int\n\n| 1 | 2 | 3 |\n| 4 | 5 | 6 |\n| 7 | 8 | 9 |\n\n",
            "text/latex": "A matrix: 3 × 3 of type int\n\\begin{tabular}{lll}\n\t 1 & 2 & 3\\\\\n\t 4 & 5 & 6\\\\\n\t 7 & 8 & 9\\\\\n\\end{tabular}\n",
            "text/plain": [
              "     [,1] [,2] [,3]\n",
              "[1,] 1    2    3   \n",
              "[2,] 4    5    6   \n",
              "[3,] 7    8    9   "
            ]
          },
          "metadata": {}
        }
      ]
    },
    {
      "cell_type": "code",
      "source": [
        "m[2:3, 1:2]"
      ],
      "metadata": {
        "colab": {
          "base_uri": "https://localhost:8080/",
          "height": 166
        },
        "id": "0aDoyeIIVMC-",
        "outputId": "e9736dec-f1b3-432c-ed97-91e2a20d14fd"
      },
      "execution_count": 21,
      "outputs": [
        {
          "output_type": "display_data",
          "data": {
            "text/html": [
              "<table class=\"dataframe\">\n",
              "<caption>A matrix: 2 × 2 of type int</caption>\n",
              "<tbody>\n",
              "\t<tr><td>4</td><td>5</td></tr>\n",
              "\t<tr><td>7</td><td>8</td></tr>\n",
              "</tbody>\n",
              "</table>\n"
            ],
            "text/markdown": "\nA matrix: 2 × 2 of type int\n\n| 4 | 5 |\n| 7 | 8 |\n\n",
            "text/latex": "A matrix: 2 × 2 of type int\n\\begin{tabular}{ll}\n\t 4 & 5\\\\\n\t 7 & 8\\\\\n\\end{tabular}\n",
            "text/plain": [
              "     [,1] [,2]\n",
              "[1,] 4    5   \n",
              "[2,] 7    8   "
            ]
          },
          "metadata": {}
        }
      ]
    },
    {
      "cell_type": "markdown",
      "source": [
        "### 13. If `v` is a vector with values `[5, 7, 9, 11, 13]`, what will be the result of `max(v) - min(v)`?"
      ],
      "metadata": {
        "id": "wt2Q5cwmVPh9"
      }
    },
    {
      "cell_type": "code",
      "source": [
        "v = c(5, 7, 9, 11, 13)\n",
        "v"
      ],
      "metadata": {
        "colab": {
          "base_uri": "https://localhost:8080/",
          "height": 34
        },
        "id": "Wkfbt1E5VNu1",
        "outputId": "1e8a02e8-de93-4d13-a9de-2127eb8c7cee"
      },
      "execution_count": 22,
      "outputs": [
        {
          "output_type": "display_data",
          "data": {
            "text/html": [
              "<style>\n",
              ".list-inline {list-style: none; margin:0; padding: 0}\n",
              ".list-inline>li {display: inline-block}\n",
              ".list-inline>li:not(:last-child)::after {content: \"\\00b7\"; padding: 0 .5ex}\n",
              "</style>\n",
              "<ol class=list-inline><li>5</li><li>7</li><li>9</li><li>11</li><li>13</li></ol>\n"
            ],
            "text/markdown": "1. 5\n2. 7\n3. 9\n4. 11\n5. 13\n\n\n",
            "text/latex": "\\begin{enumerate*}\n\\item 5\n\\item 7\n\\item 9\n\\item 11\n\\item 13\n\\end{enumerate*}\n",
            "text/plain": [
              "[1]  5  7  9 11 13"
            ]
          },
          "metadata": {}
        }
      ]
    },
    {
      "cell_type": "code",
      "source": [
        "max(v) - min(v)"
      ],
      "metadata": {
        "colab": {
          "base_uri": "https://localhost:8080/",
          "height": 34
        },
        "id": "6PUSu8ZXVTbZ",
        "outputId": "5397213a-fc8d-482b-fff1-da1431e94bfe"
      },
      "execution_count": 23,
      "outputs": [
        {
          "output_type": "display_data",
          "data": {
            "text/html": [
              "8"
            ],
            "text/markdown": "8",
            "text/latex": "8",
            "text/plain": [
              "[1] 8"
            ]
          },
          "metadata": {}
        }
      ]
    },
    {
      "cell_type": "markdown",
      "source": [
        "### 14. Using the previous vector `v`, what will be the output of `v[v < 10 | v > 12]`?"
      ],
      "metadata": {
        "id": "basZnWQ5VYKX"
      }
    },
    {
      "cell_type": "code",
      "source": [
        "v[v < 10 | v > 12]"
      ],
      "metadata": {
        "colab": {
          "base_uri": "https://localhost:8080/",
          "height": 34
        },
        "id": "nfORMHDOVUtl",
        "outputId": "9fd630c3-a0a5-4a66-cd8a-724f322f61d9"
      },
      "execution_count": 24,
      "outputs": [
        {
          "output_type": "display_data",
          "data": {
            "text/html": [
              "<style>\n",
              ".list-inline {list-style: none; margin:0; padding: 0}\n",
              ".list-inline>li {display: inline-block}\n",
              ".list-inline>li:not(:last-child)::after {content: \"\\00b7\"; padding: 0 .5ex}\n",
              "</style>\n",
              "<ol class=list-inline><li>5</li><li>7</li><li>9</li><li>13</li></ol>\n"
            ],
            "text/markdown": "1. 5\n2. 7\n3. 9\n4. 13\n\n\n",
            "text/latex": "\\begin{enumerate*}\n\\item 5\n\\item 7\n\\item 9\n\\item 13\n\\end{enumerate*}\n",
            "text/plain": [
              "[1]  5  7  9 13"
            ]
          },
          "metadata": {}
        }
      ]
    },
    {
      "cell_type": "markdown",
      "source": [
        "### 15. Consider a data frame `df` with columns `A`, `B`, and `C`. If `A`' has values `[3, 6, 9]`, `B` has values `[5, 10, 15]`, and `C` has values `[7, 14, 21]`. What will be the output of `df[df$A == 6 & df$B == 10,]`?"
      ],
      "metadata": {
        "id": "qDtTbUilWhBt"
      }
    },
    {
      "cell_type": "code",
      "source": [
        "df = data.frame (A = c(3, 6, 9), B = c(5, 10, 15), C = c(7, 14, 21))\n",
        "df"
      ],
      "metadata": {
        "colab": {
          "base_uri": "https://localhost:8080/",
          "height": 192
        },
        "id": "e5u3Uv9nVb93",
        "outputId": "b41c42cd-ee40-4dd9-c5d0-afce6ddcebd0"
      },
      "execution_count": 25,
      "outputs": [
        {
          "output_type": "display_data",
          "data": {
            "text/html": [
              "<table class=\"dataframe\">\n",
              "<caption>A data.frame: 3 × 3</caption>\n",
              "<thead>\n",
              "\t<tr><th scope=col>A</th><th scope=col>B</th><th scope=col>C</th></tr>\n",
              "\t<tr><th scope=col>&lt;dbl&gt;</th><th scope=col>&lt;dbl&gt;</th><th scope=col>&lt;dbl&gt;</th></tr>\n",
              "</thead>\n",
              "<tbody>\n",
              "\t<tr><td>3</td><td> 5</td><td> 7</td></tr>\n",
              "\t<tr><td>6</td><td>10</td><td>14</td></tr>\n",
              "\t<tr><td>9</td><td>15</td><td>21</td></tr>\n",
              "</tbody>\n",
              "</table>\n"
            ],
            "text/markdown": "\nA data.frame: 3 × 3\n\n| A &lt;dbl&gt; | B &lt;dbl&gt; | C &lt;dbl&gt; |\n|---|---|---|\n| 3 |  5 |  7 |\n| 6 | 10 | 14 |\n| 9 | 15 | 21 |\n\n",
            "text/latex": "A data.frame: 3 × 3\n\\begin{tabular}{lll}\n A & B & C\\\\\n <dbl> & <dbl> & <dbl>\\\\\n\\hline\n\t 3 &  5 &  7\\\\\n\t 6 & 10 & 14\\\\\n\t 9 & 15 & 21\\\\\n\\end{tabular}\n",
            "text/plain": [
              "  A B  C \n",
              "1 3  5  7\n",
              "2 6 10 14\n",
              "3 9 15 21"
            ]
          },
          "metadata": {}
        }
      ]
    },
    {
      "cell_type": "code",
      "source": [
        "df[df$A == 6 & df$B == 10,]"
      ],
      "metadata": {
        "colab": {
          "base_uri": "https://localhost:8080/",
          "height": 129
        },
        "id": "C24WlacxWsCn",
        "outputId": "2ee21bff-c840-41ff-bfd7-88980b736a1b"
      },
      "execution_count": 26,
      "outputs": [
        {
          "output_type": "display_data",
          "data": {
            "text/html": [
              "<table class=\"dataframe\">\n",
              "<caption>A data.frame: 1 × 3</caption>\n",
              "<thead>\n",
              "\t<tr><th></th><th scope=col>A</th><th scope=col>B</th><th scope=col>C</th></tr>\n",
              "\t<tr><th></th><th scope=col>&lt;dbl&gt;</th><th scope=col>&lt;dbl&gt;</th><th scope=col>&lt;dbl&gt;</th></tr>\n",
              "</thead>\n",
              "<tbody>\n",
              "\t<tr><th scope=row>2</th><td>6</td><td>10</td><td>14</td></tr>\n",
              "</tbody>\n",
              "</table>\n"
            ],
            "text/markdown": "\nA data.frame: 1 × 3\n\n| <!--/--> | A &lt;dbl&gt; | B &lt;dbl&gt; | C &lt;dbl&gt; |\n|---|---|---|---|\n| 2 | 6 | 10 | 14 |\n\n",
            "text/latex": "A data.frame: 1 × 3\n\\begin{tabular}{r|lll}\n  & A & B & C\\\\\n  & <dbl> & <dbl> & <dbl>\\\\\n\\hline\n\t2 & 6 & 10 & 14\\\\\n\\end{tabular}\n",
            "text/plain": [
              "  A B  C \n",
              "2 6 10 14"
            ]
          },
          "metadata": {}
        }
      ]
    },
    {
      "cell_type": "markdown",
      "source": [
        "### 16. What will be the output of the expression `seq(3, 30, length.out = 10)`?"
      ],
      "metadata": {
        "id": "Vw_kuzfbWwSP"
      }
    },
    {
      "cell_type": "code",
      "source": [
        "seq(3, 30, length.out = 10)"
      ],
      "metadata": {
        "colab": {
          "base_uri": "https://localhost:8080/",
          "height": 34
        },
        "id": "QLQ-B_MCWuWS",
        "outputId": "2a5efa75-7f87-4ab1-ba32-d6e5a77ca1e6"
      },
      "execution_count": 27,
      "outputs": [
        {
          "output_type": "display_data",
          "data": {
            "text/html": [
              "<style>\n",
              ".list-inline {list-style: none; margin:0; padding: 0}\n",
              ".list-inline>li {display: inline-block}\n",
              ".list-inline>li:not(:last-child)::after {content: \"\\00b7\"; padding: 0 .5ex}\n",
              "</style>\n",
              "<ol class=list-inline><li>3</li><li>6</li><li>9</li><li>12</li><li>15</li><li>18</li><li>21</li><li>24</li><li>27</li><li>30</li></ol>\n"
            ],
            "text/markdown": "1. 3\n2. 6\n3. 9\n4. 12\n5. 15\n6. 18\n7. 21\n8. 24\n9. 27\n10. 30\n\n\n",
            "text/latex": "\\begin{enumerate*}\n\\item 3\n\\item 6\n\\item 9\n\\item 12\n\\item 15\n\\item 18\n\\item 21\n\\item 24\n\\item 27\n\\item 30\n\\end{enumerate*}\n",
            "text/plain": [
              " [1]  3  6  9 12 15 18 21 24 27 30"
            ]
          },
          "metadata": {}
        }
      ]
    },
    {
      "cell_type": "markdown",
      "source": [
        "### 17. Given a vector `w` with values `[45, 22, 89, 67, 34]`, what will be the output of `sort(w)[which(w > 50)]`?"
      ],
      "metadata": {
        "id": "rHd6TfBWWzto"
      }
    },
    {
      "cell_type": "code",
      "source": [
        "w = c(45, 22, 89, 67, 34)\n",
        "w"
      ],
      "metadata": {
        "colab": {
          "base_uri": "https://localhost:8080/",
          "height": 34
        },
        "id": "GbazYb4OWx8T",
        "outputId": "e7472478-e9dd-4272-d47f-21a791d86c26"
      },
      "execution_count": 28,
      "outputs": [
        {
          "output_type": "display_data",
          "data": {
            "text/html": [
              "<style>\n",
              ".list-inline {list-style: none; margin:0; padding: 0}\n",
              ".list-inline>li {display: inline-block}\n",
              ".list-inline>li:not(:last-child)::after {content: \"\\00b7\"; padding: 0 .5ex}\n",
              "</style>\n",
              "<ol class=list-inline><li>45</li><li>22</li><li>89</li><li>67</li><li>34</li></ol>\n"
            ],
            "text/markdown": "1. 45\n2. 22\n3. 89\n4. 67\n5. 34\n\n\n",
            "text/latex": "\\begin{enumerate*}\n\\item 45\n\\item 22\n\\item 89\n\\item 67\n\\item 34\n\\end{enumerate*}\n",
            "text/plain": [
              "[1] 45 22 89 67 34"
            ]
          },
          "metadata": {}
        }
      ]
    },
    {
      "cell_type": "code",
      "source": [
        "w > 50"
      ],
      "metadata": {
        "colab": {
          "base_uri": "https://localhost:8080/",
          "height": 34
        },
        "id": "37MgEG28W5Px",
        "outputId": "7e8a070e-d15f-40f6-f60d-e7541b62e049"
      },
      "execution_count": 29,
      "outputs": [
        {
          "output_type": "display_data",
          "data": {
            "text/html": [
              "<style>\n",
              ".list-inline {list-style: none; margin:0; padding: 0}\n",
              ".list-inline>li {display: inline-block}\n",
              ".list-inline>li:not(:last-child)::after {content: \"\\00b7\"; padding: 0 .5ex}\n",
              "</style>\n",
              "<ol class=list-inline><li>FALSE</li><li>FALSE</li><li>TRUE</li><li>TRUE</li><li>FALSE</li></ol>\n"
            ],
            "text/markdown": "1. FALSE\n2. FALSE\n3. TRUE\n4. TRUE\n5. FALSE\n\n\n",
            "text/latex": "\\begin{enumerate*}\n\\item FALSE\n\\item FALSE\n\\item TRUE\n\\item TRUE\n\\item FALSE\n\\end{enumerate*}\n",
            "text/plain": [
              "[1] FALSE FALSE  TRUE  TRUE FALSE"
            ]
          },
          "metadata": {}
        }
      ]
    },
    {
      "cell_type": "code",
      "source": [
        "which(w > 50)"
      ],
      "metadata": {
        "colab": {
          "base_uri": "https://localhost:8080/",
          "height": 34
        },
        "id": "X6m5YUWIW7Vt",
        "outputId": "b9b4b579-54c9-4f63-8f66-9976e8a03066"
      },
      "execution_count": 30,
      "outputs": [
        {
          "output_type": "display_data",
          "data": {
            "text/html": [
              "<style>\n",
              ".list-inline {list-style: none; margin:0; padding: 0}\n",
              ".list-inline>li {display: inline-block}\n",
              ".list-inline>li:not(:last-child)::after {content: \"\\00b7\"; padding: 0 .5ex}\n",
              "</style>\n",
              "<ol class=list-inline><li>3</li><li>4</li></ol>\n"
            ],
            "text/markdown": "1. 3\n2. 4\n\n\n",
            "text/latex": "\\begin{enumerate*}\n\\item 3\n\\item 4\n\\end{enumerate*}\n",
            "text/plain": [
              "[1] 3 4"
            ]
          },
          "metadata": {}
        }
      ]
    },
    {
      "cell_type": "code",
      "source": [
        "sort(w)"
      ],
      "metadata": {
        "colab": {
          "base_uri": "https://localhost:8080/",
          "height": 34
        },
        "id": "Otva7Rc7XAAY",
        "outputId": "e6ec472d-ed92-4106-8f3e-b6aa75a17c3d"
      },
      "execution_count": 31,
      "outputs": [
        {
          "output_type": "display_data",
          "data": {
            "text/html": [
              "<style>\n",
              ".list-inline {list-style: none; margin:0; padding: 0}\n",
              ".list-inline>li {display: inline-block}\n",
              ".list-inline>li:not(:last-child)::after {content: \"\\00b7\"; padding: 0 .5ex}\n",
              "</style>\n",
              "<ol class=list-inline><li>22</li><li>34</li><li>45</li><li>67</li><li>89</li></ol>\n"
            ],
            "text/markdown": "1. 22\n2. 34\n3. 45\n4. 67\n5. 89\n\n\n",
            "text/latex": "\\begin{enumerate*}\n\\item 22\n\\item 34\n\\item 45\n\\item 67\n\\item 89\n\\end{enumerate*}\n",
            "text/plain": [
              "[1] 22 34 45 67 89"
            ]
          },
          "metadata": {}
        }
      ]
    },
    {
      "cell_type": "code",
      "source": [
        "sort(w)[c(3, 4)]"
      ],
      "metadata": {
        "colab": {
          "base_uri": "https://localhost:8080/",
          "height": 34
        },
        "id": "Le-RiwvSXB0x",
        "outputId": "eccf3997-c634-469b-9817-841dea482b69"
      },
      "execution_count": 32,
      "outputs": [
        {
          "output_type": "display_data",
          "data": {
            "text/html": [
              "<style>\n",
              ".list-inline {list-style: none; margin:0; padding: 0}\n",
              ".list-inline>li {display: inline-block}\n",
              ".list-inline>li:not(:last-child)::after {content: \"\\00b7\"; padding: 0 .5ex}\n",
              "</style>\n",
              "<ol class=list-inline><li>45</li><li>67</li></ol>\n"
            ],
            "text/markdown": "1. 45\n2. 67\n\n\n",
            "text/latex": "\\begin{enumerate*}\n\\item 45\n\\item 67\n\\end{enumerate*}\n",
            "text/plain": [
              "[1] 45 67"
            ]
          },
          "metadata": {}
        }
      ]
    },
    {
      "cell_type": "code",
      "source": [
        "sort(w)[which(w > 50)]"
      ],
      "metadata": {
        "colab": {
          "base_uri": "https://localhost:8080/",
          "height": 34
        },
        "id": "6vvOVwitXD-X",
        "outputId": "dea37852-4576-4df2-f68b-ae4792dde4aa"
      },
      "execution_count": 33,
      "outputs": [
        {
          "output_type": "display_data",
          "data": {
            "text/html": [
              "<style>\n",
              ".list-inline {list-style: none; margin:0; padding: 0}\n",
              ".list-inline>li {display: inline-block}\n",
              ".list-inline>li:not(:last-child)::after {content: \"\\00b7\"; padding: 0 .5ex}\n",
              "</style>\n",
              "<ol class=list-inline><li>45</li><li>67</li></ol>\n"
            ],
            "text/markdown": "1. 45\n2. 67\n\n\n",
            "text/latex": "\\begin{enumerate*}\n\\item 45\n\\item 67\n\\end{enumerate*}\n",
            "text/plain": [
              "[1] 45 67"
            ]
          },
          "metadata": {}
        }
      ]
    },
    {
      "cell_type": "markdown",
      "source": [
        "### 18. Identify the logical error in the following code:\n",
        "\n",
        "```R\n",
        "x <- c(1, 2, 3, 4, 5)\n",
        "y <- x[6]\n",
        "print(y)\n",
        "```"
      ],
      "metadata": {
        "id": "GoYrFqTiXI6F"
      }
    },
    {
      "cell_type": "code",
      "source": [
        "x <- c(1, 2, 3, 4, 5)\n",
        "y <- x[6] # index out of range\n",
        "print(y)"
      ],
      "metadata": {
        "colab": {
          "base_uri": "https://localhost:8080/"
        },
        "id": "aFwGHWLNXIMt",
        "outputId": "2d0fe333-66b3-4e7b-cf3c-05a1bab15e4d"
      },
      "execution_count": 34,
      "outputs": [
        {
          "output_type": "stream",
          "name": "stdout",
          "text": [
            "[1] NA\n"
          ]
        }
      ]
    },
    {
      "cell_type": "markdown",
      "source": [
        "### 19. If `z` is a vector with values `[10, 20, 30, 40, 50]`, what will be the result of `z[1] + z[5]`?"
      ],
      "metadata": {
        "id": "qQ9zGga8XPld"
      }
    },
    {
      "cell_type": "code",
      "source": [
        "z = c(10, 20, 30, 40, 50)\n",
        "z"
      ],
      "metadata": {
        "colab": {
          "base_uri": "https://localhost:8080/",
          "height": 34
        },
        "id": "g9iMuxndXN3B",
        "outputId": "966cd554-7171-4853-960c-4834bc4de0af"
      },
      "execution_count": 35,
      "outputs": [
        {
          "output_type": "display_data",
          "data": {
            "text/html": [
              "<style>\n",
              ".list-inline {list-style: none; margin:0; padding: 0}\n",
              ".list-inline>li {display: inline-block}\n",
              ".list-inline>li:not(:last-child)::after {content: \"\\00b7\"; padding: 0 .5ex}\n",
              "</style>\n",
              "<ol class=list-inline><li>10</li><li>20</li><li>30</li><li>40</li><li>50</li></ol>\n"
            ],
            "text/markdown": "1. 10\n2. 20\n3. 30\n4. 40\n5. 50\n\n\n",
            "text/latex": "\\begin{enumerate*}\n\\item 10\n\\item 20\n\\item 30\n\\item 40\n\\item 50\n\\end{enumerate*}\n",
            "text/plain": [
              "[1] 10 20 30 40 50"
            ]
          },
          "metadata": {}
        }
      ]
    },
    {
      "cell_type": "code",
      "source": [
        "z[1] + z[5]"
      ],
      "metadata": {
        "colab": {
          "base_uri": "https://localhost:8080/",
          "height": 34
        },
        "id": "MhFSluOIXS3Z",
        "outputId": "67128cce-b43b-49a1-86dc-9c23a602cf73"
      },
      "execution_count": 36,
      "outputs": [
        {
          "output_type": "display_data",
          "data": {
            "text/html": [
              "60"
            ],
            "text/markdown": "60",
            "text/latex": "60",
            "text/plain": [
              "[1] 60"
            ]
          },
          "metadata": {}
        }
      ]
    },
    {
      "cell_type": "markdown",
      "source": [
        "### 20. Given the previous vector `z`, what will be the output of the expression `z[z > 15 & z < 45]`?"
      ],
      "metadata": {
        "id": "hLxNPhc0XV7T"
      }
    },
    {
      "cell_type": "code",
      "source": [
        "z[z > 15 & z < 45]"
      ],
      "metadata": {
        "colab": {
          "base_uri": "https://localhost:8080/",
          "height": 34
        },
        "id": "cNyqwWR_XUDy",
        "outputId": "b1e6d4b6-29ab-436d-c5e1-322be69c6f52"
      },
      "execution_count": 37,
      "outputs": [
        {
          "output_type": "display_data",
          "data": {
            "text/html": [
              "<style>\n",
              ".list-inline {list-style: none; margin:0; padding: 0}\n",
              ".list-inline>li {display: inline-block}\n",
              ".list-inline>li:not(:last-child)::after {content: \"\\00b7\"; padding: 0 .5ex}\n",
              "</style>\n",
              "<ol class=list-inline><li>20</li><li>30</li><li>40</li></ol>\n"
            ],
            "text/markdown": "1. 20\n2. 30\n3. 40\n\n\n",
            "text/latex": "\\begin{enumerate*}\n\\item 20\n\\item 30\n\\item 40\n\\end{enumerate*}\n",
            "text/plain": [
              "[1] 20 30 40"
            ]
          },
          "metadata": {}
        }
      ]
    },
    {
      "cell_type": "markdown",
      "source": [
        "### 21. Using the vector `v` with values [5, 7, 9, 11, 13], what will be the output of `order(v, decreasing = TRUE)[1]`?"
      ],
      "metadata": {
        "id": "h_OmvQxcXrGZ"
      }
    },
    {
      "cell_type": "code",
      "source": [
        "v = c(5, 7, 9, 11, 13)\n",
        "v"
      ],
      "metadata": {
        "colab": {
          "base_uri": "https://localhost:8080/",
          "height": 34
        },
        "id": "Pb9F4lfqXoML",
        "outputId": "c45a7d7a-d149-46d4-a7fe-c1e7ecfc09c5"
      },
      "execution_count": 38,
      "outputs": [
        {
          "output_type": "display_data",
          "data": {
            "text/html": [
              "<style>\n",
              ".list-inline {list-style: none; margin:0; padding: 0}\n",
              ".list-inline>li {display: inline-block}\n",
              ".list-inline>li:not(:last-child)::after {content: \"\\00b7\"; padding: 0 .5ex}\n",
              "</style>\n",
              "<ol class=list-inline><li>5</li><li>7</li><li>9</li><li>11</li><li>13</li></ol>\n"
            ],
            "text/markdown": "1. 5\n2. 7\n3. 9\n4. 11\n5. 13\n\n\n",
            "text/latex": "\\begin{enumerate*}\n\\item 5\n\\item 7\n\\item 9\n\\item 11\n\\item 13\n\\end{enumerate*}\n",
            "text/plain": [
              "[1]  5  7  9 11 13"
            ]
          },
          "metadata": {}
        }
      ]
    },
    {
      "cell_type": "code",
      "source": [
        "order(v, decreasing = TRUE)"
      ],
      "metadata": {
        "colab": {
          "base_uri": "https://localhost:8080/",
          "height": 34
        },
        "id": "gmWK919eXtok",
        "outputId": "01e97092-5bbe-4903-8f93-e67b9137938b"
      },
      "execution_count": 39,
      "outputs": [
        {
          "output_type": "display_data",
          "data": {
            "text/html": [
              "<style>\n",
              ".list-inline {list-style: none; margin:0; padding: 0}\n",
              ".list-inline>li {display: inline-block}\n",
              ".list-inline>li:not(:last-child)::after {content: \"\\00b7\"; padding: 0 .5ex}\n",
              "</style>\n",
              "<ol class=list-inline><li>5</li><li>4</li><li>3</li><li>2</li><li>1</li></ol>\n"
            ],
            "text/markdown": "1. 5\n2. 4\n3. 3\n4. 2\n5. 1\n\n\n",
            "text/latex": "\\begin{enumerate*}\n\\item 5\n\\item 4\n\\item 3\n\\item 2\n\\item 1\n\\end{enumerate*}\n",
            "text/plain": [
              "[1] 5 4 3 2 1"
            ]
          },
          "metadata": {}
        }
      ]
    },
    {
      "cell_type": "code",
      "source": [
        "order(v, decreasing = TRUE)[1]"
      ],
      "metadata": {
        "colab": {
          "base_uri": "https://localhost:8080/",
          "height": 34
        },
        "id": "l9m_u8pjXvgR",
        "outputId": "615c4e56-f876-4ff9-9441-bdf3e938be00"
      },
      "execution_count": 40,
      "outputs": [
        {
          "output_type": "display_data",
          "data": {
            "text/html": [
              "5"
            ],
            "text/markdown": "5",
            "text/latex": "5",
            "text/plain": [
              "[1] 5"
            ]
          },
          "metadata": {}
        }
      ]
    },
    {
      "cell_type": "markdown",
      "source": [
        "### 22. Consider a matrix `n` with values:\n",
        "\n",
        "```{R}\n",
        "3 6 9\n",
        "12 15 18\n",
        "21 24 27\n",
        "```\n",
        "\n",
        "### What will be the output of `n[1,] + n[3,]`?"
      ],
      "metadata": {
        "id": "1omH1kxvXzya"
      }
    },
    {
      "cell_type": "code",
      "source": [
        "n = matrix(seq(3,27,3), nrow = 3, byrow = TRUE)\n",
        "n"
      ],
      "metadata": {
        "colab": {
          "base_uri": "https://localhost:8080/",
          "height": 146
        },
        "id": "11fNJIsDX4_i",
        "outputId": "68157e44-770e-4b3b-e531-cca7f0b5438a"
      },
      "execution_count": 41,
      "outputs": [
        {
          "output_type": "display_data",
          "data": {
            "text/html": [
              "<table class=\"dataframe\">\n",
              "<caption>A matrix: 3 × 3 of type dbl</caption>\n",
              "<tbody>\n",
              "\t<tr><td> 3</td><td> 6</td><td> 9</td></tr>\n",
              "\t<tr><td>12</td><td>15</td><td>18</td></tr>\n",
              "\t<tr><td>21</td><td>24</td><td>27</td></tr>\n",
              "</tbody>\n",
              "</table>\n"
            ],
            "text/markdown": "\nA matrix: 3 × 3 of type dbl\n\n|  3 |  6 |  9 |\n| 12 | 15 | 18 |\n| 21 | 24 | 27 |\n\n",
            "text/latex": "A matrix: 3 × 3 of type dbl\n\\begin{tabular}{lll}\n\t  3 &  6 &  9\\\\\n\t 12 & 15 & 18\\\\\n\t 21 & 24 & 27\\\\\n\\end{tabular}\n",
            "text/plain": [
              "     [,1] [,2] [,3]\n",
              "[1,]  3    6    9  \n",
              "[2,] 12   15   18  \n",
              "[3,] 21   24   27  "
            ]
          },
          "metadata": {}
        }
      ]
    },
    {
      "cell_type": "code",
      "source": [
        "n[1,]"
      ],
      "metadata": {
        "colab": {
          "base_uri": "https://localhost:8080/",
          "height": 34
        },
        "id": "rZPMBCY6Xwwd",
        "outputId": "2e2a4b10-3eb6-481f-ae6d-31860595c716"
      },
      "execution_count": 42,
      "outputs": [
        {
          "output_type": "display_data",
          "data": {
            "text/html": [
              "<style>\n",
              ".list-inline {list-style: none; margin:0; padding: 0}\n",
              ".list-inline>li {display: inline-block}\n",
              ".list-inline>li:not(:last-child)::after {content: \"\\00b7\"; padding: 0 .5ex}\n",
              "</style>\n",
              "<ol class=list-inline><li>3</li><li>6</li><li>9</li></ol>\n"
            ],
            "text/markdown": "1. 3\n2. 6\n3. 9\n\n\n",
            "text/latex": "\\begin{enumerate*}\n\\item 3\n\\item 6\n\\item 9\n\\end{enumerate*}\n",
            "text/plain": [
              "[1] 3 6 9"
            ]
          },
          "metadata": {}
        }
      ]
    },
    {
      "cell_type": "code",
      "source": [
        "n[3,]"
      ],
      "metadata": {
        "colab": {
          "base_uri": "https://localhost:8080/",
          "height": 34
        },
        "id": "oKxRrkt1X3i1",
        "outputId": "80ad6228-207c-4711-eaf3-33412cafbcfe"
      },
      "execution_count": 43,
      "outputs": [
        {
          "output_type": "display_data",
          "data": {
            "text/html": [
              "<style>\n",
              ".list-inline {list-style: none; margin:0; padding: 0}\n",
              ".list-inline>li {display: inline-block}\n",
              ".list-inline>li:not(:last-child)::after {content: \"\\00b7\"; padding: 0 .5ex}\n",
              "</style>\n",
              "<ol class=list-inline><li>21</li><li>24</li><li>27</li></ol>\n"
            ],
            "text/markdown": "1. 21\n2. 24\n3. 27\n\n\n",
            "text/latex": "\\begin{enumerate*}\n\\item 21\n\\item 24\n\\item 27\n\\end{enumerate*}\n",
            "text/plain": [
              "[1] 21 24 27"
            ]
          },
          "metadata": {}
        }
      ]
    },
    {
      "cell_type": "code",
      "source": [
        "n[1,] + n[3,]"
      ],
      "metadata": {
        "colab": {
          "base_uri": "https://localhost:8080/",
          "height": 34
        },
        "id": "TDFHnogQYH7r",
        "outputId": "a25e9d30-3bf5-4196-f1f6-898e3a0344e7"
      },
      "execution_count": 44,
      "outputs": [
        {
          "output_type": "display_data",
          "data": {
            "text/html": [
              "<style>\n",
              ".list-inline {list-style: none; margin:0; padding: 0}\n",
              ".list-inline>li {display: inline-block}\n",
              ".list-inline>li:not(:last-child)::after {content: \"\\00b7\"; padding: 0 .5ex}\n",
              "</style>\n",
              "<ol class=list-inline><li>24</li><li>30</li><li>36</li></ol>\n"
            ],
            "text/markdown": "1. 24\n2. 30\n3. 36\n\n\n",
            "text/latex": "\\begin{enumerate*}\n\\item 24\n\\item 30\n\\item 36\n\\end{enumerate*}\n",
            "text/plain": [
              "[1] 24 30 36"
            ]
          },
          "metadata": {}
        }
      ]
    },
    {
      "cell_type": "markdown",
      "source": [
        "### 23. If `u` is a vector with values [2, 4, 8, 16, 32], what will be the result of `u[2] * u[4]`?"
      ],
      "metadata": {
        "id": "jF12Jg2EYMHq"
      }
    },
    {
      "cell_type": "code",
      "source": [
        "u = c(2, 4, 8, 16, 32)\n",
        "u"
      ],
      "metadata": {
        "colab": {
          "base_uri": "https://localhost:8080/",
          "height": 34
        },
        "id": "sM2qqmTKYJmE",
        "outputId": "ef82c345-6f5d-46aa-ad00-07150c111748"
      },
      "execution_count": 45,
      "outputs": [
        {
          "output_type": "display_data",
          "data": {
            "text/html": [
              "<style>\n",
              ".list-inline {list-style: none; margin:0; padding: 0}\n",
              ".list-inline>li {display: inline-block}\n",
              ".list-inline>li:not(:last-child)::after {content: \"\\00b7\"; padding: 0 .5ex}\n",
              "</style>\n",
              "<ol class=list-inline><li>2</li><li>4</li><li>8</li><li>16</li><li>32</li></ol>\n"
            ],
            "text/markdown": "1. 2\n2. 4\n3. 8\n4. 16\n5. 32\n\n\n",
            "text/latex": "\\begin{enumerate*}\n\\item 2\n\\item 4\n\\item 8\n\\item 16\n\\item 32\n\\end{enumerate*}\n",
            "text/plain": [
              "[1]  2  4  8 16 32"
            ]
          },
          "metadata": {}
        }
      ]
    },
    {
      "cell_type": "code",
      "source": [
        "u[2] * u[4]"
      ],
      "metadata": {
        "colab": {
          "base_uri": "https://localhost:8080/",
          "height": 34
        },
        "id": "9cBZQEa4YPMs",
        "outputId": "0e36ca97-7e39-48fb-ec55-4f8c5292123b"
      },
      "execution_count": 46,
      "outputs": [
        {
          "output_type": "display_data",
          "data": {
            "text/html": [
              "64"
            ],
            "text/markdown": "64",
            "text/latex": "64",
            "text/plain": [
              "[1] 64"
            ]
          },
          "metadata": {}
        }
      ]
    },
    {
      "cell_type": "markdown",
      "source": [
        "24. Given a matrix `p` with dimensions $4\\times4$ containing values from $1$ to $16$, what will be the output of `p[2:3, 2:3]`?"
      ],
      "metadata": {
        "id": "pQh6GenrYTF2"
      }
    },
    {
      "cell_type": "code",
      "source": [
        "p = matrix(1:16, nrow = 4)\n",
        "p"
      ],
      "metadata": {
        "colab": {
          "base_uri": "https://localhost:8080/",
          "height": 177
        },
        "id": "sF7HntwvYRTE",
        "outputId": "d2f58523-d5b2-43cc-b04d-50f3f1e9e6fc"
      },
      "execution_count": 47,
      "outputs": [
        {
          "output_type": "display_data",
          "data": {
            "text/html": [
              "<table class=\"dataframe\">\n",
              "<caption>A matrix: 4 × 4 of type int</caption>\n",
              "<tbody>\n",
              "\t<tr><td>1</td><td>5</td><td> 9</td><td>13</td></tr>\n",
              "\t<tr><td>2</td><td>6</td><td>10</td><td>14</td></tr>\n",
              "\t<tr><td>3</td><td>7</td><td>11</td><td>15</td></tr>\n",
              "\t<tr><td>4</td><td>8</td><td>12</td><td>16</td></tr>\n",
              "</tbody>\n",
              "</table>\n"
            ],
            "text/markdown": "\nA matrix: 4 × 4 of type int\n\n| 1 | 5 |  9 | 13 |\n| 2 | 6 | 10 | 14 |\n| 3 | 7 | 11 | 15 |\n| 4 | 8 | 12 | 16 |\n\n",
            "text/latex": "A matrix: 4 × 4 of type int\n\\begin{tabular}{llll}\n\t 1 & 5 &  9 & 13\\\\\n\t 2 & 6 & 10 & 14\\\\\n\t 3 & 7 & 11 & 15\\\\\n\t 4 & 8 & 12 & 16\\\\\n\\end{tabular}\n",
            "text/plain": [
              "     [,1] [,2] [,3] [,4]\n",
              "[1,] 1    5     9   13  \n",
              "[2,] 2    6    10   14  \n",
              "[3,] 3    7    11   15  \n",
              "[4,] 4    8    12   16  "
            ]
          },
          "metadata": {}
        }
      ]
    },
    {
      "cell_type": "code",
      "source": [
        "p[2:3, 2:3]"
      ],
      "metadata": {
        "colab": {
          "base_uri": "https://localhost:8080/",
          "height": 149
        },
        "id": "fkSHWHKTYYpN",
        "outputId": "34a3f611-e959-4013-8156-09c5153ec4f8"
      },
      "execution_count": 48,
      "outputs": [
        {
          "output_type": "display_data",
          "data": {
            "text/html": [
              "<table class=\"dataframe\">\n",
              "<caption>A matrix: 2 × 2 of type int</caption>\n",
              "<tbody>\n",
              "\t<tr><td>6</td><td>10</td></tr>\n",
              "\t<tr><td>7</td><td>11</td></tr>\n",
              "</tbody>\n",
              "</table>\n"
            ],
            "text/markdown": "\nA matrix: 2 × 2 of type int\n\n| 6 | 10 |\n| 7 | 11 |\n\n",
            "text/latex": "A matrix: 2 × 2 of type int\n\\begin{tabular}{ll}\n\t 6 & 10\\\\\n\t 7 & 11\\\\\n\\end{tabular}\n",
            "text/plain": [
              "     [,1] [,2]\n",
              "[1,] 6    10  \n",
              "[2,] 7    11  "
            ]
          },
          "metadata": {}
        }
      ]
    },
    {
      "cell_type": "markdown",
      "source": [
        "### 25. What will be the output of the function call `seq(1, 1.9, by=0.3)`?"
      ],
      "metadata": {
        "id": "04H16Qu8Y4Bn"
      }
    },
    {
      "cell_type": "code",
      "source": [
        "seq(1, 1.9, by=0.3)"
      ],
      "metadata": {
        "colab": {
          "base_uri": "https://localhost:8080/",
          "height": 34
        },
        "id": "PEg7HUAAYceB",
        "outputId": "5d55c329-4663-4691-b880-6f5266a42122"
      },
      "execution_count": 49,
      "outputs": [
        {
          "output_type": "display_data",
          "data": {
            "text/html": [
              "<style>\n",
              ".list-inline {list-style: none; margin:0; padding: 0}\n",
              ".list-inline>li {display: inline-block}\n",
              ".list-inline>li:not(:last-child)::after {content: \"\\00b7\"; padding: 0 .5ex}\n",
              "</style>\n",
              "<ol class=list-inline><li>1</li><li>1.3</li><li>1.6</li><li>1.9</li></ol>\n"
            ],
            "text/markdown": "1. 1\n2. 1.3\n3. 1.6\n4. 1.9\n\n\n",
            "text/latex": "\\begin{enumerate*}\n\\item 1\n\\item 1.3\n\\item 1.6\n\\item 1.9\n\\end{enumerate*}\n",
            "text/plain": [
              "[1] 1.0 1.3 1.6 1.9"
            ]
          },
          "metadata": {}
        }
      ]
    },
    {
      "cell_type": "markdown",
      "source": [
        "### 26. Given a vector `q` with values `[40, 10, 30, 20, 50]`, what will be the output of the expression `sort(q)`?"
      ],
      "metadata": {
        "id": "x5WZb1fdY-EU"
      }
    },
    {
      "cell_type": "code",
      "source": [
        "q = c(40, 10, 30, 20, 50)\n",
        "q"
      ],
      "metadata": {
        "colab": {
          "base_uri": "https://localhost:8080/",
          "height": 34
        },
        "id": "fgWCsiMZY6zB",
        "outputId": "4f354de0-30c7-4f74-b606-9120da0b4ddd"
      },
      "execution_count": 50,
      "outputs": [
        {
          "output_type": "display_data",
          "data": {
            "text/html": [
              "<style>\n",
              ".list-inline {list-style: none; margin:0; padding: 0}\n",
              ".list-inline>li {display: inline-block}\n",
              ".list-inline>li:not(:last-child)::after {content: \"\\00b7\"; padding: 0 .5ex}\n",
              "</style>\n",
              "<ol class=list-inline><li>40</li><li>10</li><li>30</li><li>20</li><li>50</li></ol>\n"
            ],
            "text/markdown": "1. 40\n2. 10\n3. 30\n4. 20\n5. 50\n\n\n",
            "text/latex": "\\begin{enumerate*}\n\\item 40\n\\item 10\n\\item 30\n\\item 20\n\\item 50\n\\end{enumerate*}\n",
            "text/plain": [
              "[1] 40 10 30 20 50"
            ]
          },
          "metadata": {}
        }
      ]
    },
    {
      "cell_type": "code",
      "source": [
        "sort(q)"
      ],
      "metadata": {
        "colab": {
          "base_uri": "https://localhost:8080/",
          "height": 34
        },
        "id": "Jf-2x7OEZBrf",
        "outputId": "f0597a4f-c8cc-41ae-aa3a-043fee8b593d"
      },
      "execution_count": 51,
      "outputs": [
        {
          "output_type": "display_data",
          "data": {
            "text/html": [
              "<style>\n",
              ".list-inline {list-style: none; margin:0; padding: 0}\n",
              ".list-inline>li {display: inline-block}\n",
              ".list-inline>li:not(:last-child)::after {content: \"\\00b7\"; padding: 0 .5ex}\n",
              "</style>\n",
              "<ol class=list-inline><li>10</li><li>20</li><li>30</li><li>40</li><li>50</li></ol>\n"
            ],
            "text/markdown": "1. 10\n2. 20\n3. 30\n4. 40\n5. 50\n\n\n",
            "text/latex": "\\begin{enumerate*}\n\\item 10\n\\item 20\n\\item 30\n\\item 40\n\\item 50\n\\end{enumerate*}\n",
            "text/plain": [
              "[1] 10 20 30 40 50"
            ]
          },
          "metadata": {}
        }
      ]
    },
    {
      "cell_type": "markdown",
      "source": [
        "### 27. Using the same vector `q`, what will be the output of the expression `order(q)`?"
      ],
      "metadata": {
        "id": "oaexr1ZRZE76"
      }
    },
    {
      "cell_type": "code",
      "source": [
        "order(q)"
      ],
      "metadata": {
        "colab": {
          "base_uri": "https://localhost:8080/",
          "height": 34
        },
        "id": "nQHPWcreZCef",
        "outputId": "48ec948f-8494-4341-9c20-ec330bb01221"
      },
      "execution_count": 52,
      "outputs": [
        {
          "output_type": "display_data",
          "data": {
            "text/html": [
              "<style>\n",
              ".list-inline {list-style: none; margin:0; padding: 0}\n",
              ".list-inline>li {display: inline-block}\n",
              ".list-inline>li:not(:last-child)::after {content: \"\\00b7\"; padding: 0 .5ex}\n",
              "</style>\n",
              "<ol class=list-inline><li>2</li><li>4</li><li>3</li><li>1</li><li>5</li></ol>\n"
            ],
            "text/markdown": "1. 2\n2. 4\n3. 3\n4. 1\n5. 5\n\n\n",
            "text/latex": "\\begin{enumerate*}\n\\item 2\n\\item 4\n\\item 3\n\\item 1\n\\item 5\n\\end{enumerate*}\n",
            "text/plain": [
              "[1] 2 4 3 1 5"
            ]
          },
          "metadata": {}
        }
      ]
    },
    {
      "cell_type": "markdown",
      "source": [
        "### 28. Given a data frame `df` with a single column `Value` and values `[50, 20, 40, 10, 30]`, if you want to rearrange the rows of the data frame in ascending order based on the `Value` column, which of the following codes should you use?\n",
        "\n",
        "a. `df[sort(df$Value), ]`\n",
        "b. `df[order(df$Value), ]`\n",
        "c. `sort(df$Value)`\n",
        "d. `order(df$Value)`\n"
      ],
      "metadata": {
        "id": "9ThlO80jZI5k"
      }
    },
    {
      "cell_type": "code",
      "source": [
        "df = data.frame (Value = c(50, 20, 40, 10, 30))\n",
        "df"
      ],
      "metadata": {
        "colab": {
          "base_uri": "https://localhost:8080/",
          "height": 289
        },
        "id": "P2Dug1oeZGfi",
        "outputId": "7b3ee591-862f-4b2a-afd2-d4f2048b5605"
      },
      "execution_count": 53,
      "outputs": [
        {
          "output_type": "display_data",
          "data": {
            "text/html": [
              "<table class=\"dataframe\">\n",
              "<caption>A data.frame: 5 × 1</caption>\n",
              "<thead>\n",
              "\t<tr><th scope=col>Value</th></tr>\n",
              "\t<tr><th scope=col>&lt;dbl&gt;</th></tr>\n",
              "</thead>\n",
              "<tbody>\n",
              "\t<tr><td>50</td></tr>\n",
              "\t<tr><td>20</td></tr>\n",
              "\t<tr><td>40</td></tr>\n",
              "\t<tr><td>10</td></tr>\n",
              "\t<tr><td>30</td></tr>\n",
              "</tbody>\n",
              "</table>\n"
            ],
            "text/markdown": "\nA data.frame: 5 × 1\n\n| Value &lt;dbl&gt; |\n|---|\n| 50 |\n| 20 |\n| 40 |\n| 10 |\n| 30 |\n\n",
            "text/latex": "A data.frame: 5 × 1\n\\begin{tabular}{l}\n Value\\\\\n <dbl>\\\\\n\\hline\n\t 50\\\\\n\t 20\\\\\n\t 40\\\\\n\t 10\\\\\n\t 30\\\\\n\\end{tabular}\n",
            "text/plain": [
              "  Value\n",
              "1 50   \n",
              "2 20   \n",
              "3 40   \n",
              "4 10   \n",
              "5 30   "
            ]
          },
          "metadata": {}
        }
      ]
    },
    {
      "cell_type": "code",
      "source": [
        "df[order(df$Value), ]"
      ],
      "metadata": {
        "colab": {
          "base_uri": "https://localhost:8080/",
          "height": 34
        },
        "id": "qaTAGUG8Ze0-",
        "outputId": "458ac722-2358-4669-fbfe-ba47cfe94ae8"
      },
      "execution_count": 54,
      "outputs": [
        {
          "output_type": "display_data",
          "data": {
            "text/html": [
              "<style>\n",
              ".list-inline {list-style: none; margin:0; padding: 0}\n",
              ".list-inline>li {display: inline-block}\n",
              ".list-inline>li:not(:last-child)::after {content: \"\\00b7\"; padding: 0 .5ex}\n",
              "</style>\n",
              "<ol class=list-inline><li>10</li><li>20</li><li>30</li><li>40</li><li>50</li></ol>\n"
            ],
            "text/markdown": "1. 10\n2. 20\n3. 30\n4. 40\n5. 50\n\n\n",
            "text/latex": "\\begin{enumerate*}\n\\item 10\n\\item 20\n\\item 30\n\\item 40\n\\item 50\n\\end{enumerate*}\n",
            "text/plain": [
              "[1] 10 20 30 40 50"
            ]
          },
          "metadata": {}
        }
      ]
    },
    {
      "cell_type": "markdown",
      "source": [
        "### 29. If `r` is a vector with values `[-5, -3, 0, 3, 5]`, what will be the result of `sort(r, decreasing = TRUE)`?"
      ],
      "metadata": {
        "id": "XfZQ1looZjwD"
      }
    },
    {
      "cell_type": "code",
      "source": [
        "r = c(-5, -3, 0, 3, 5)\n",
        "r"
      ],
      "metadata": {
        "colab": {
          "base_uri": "https://localhost:8080/",
          "height": 34
        },
        "id": "DsXPkszMZg8-",
        "outputId": "565186cd-1bf3-4f24-cef1-bd3ea679ae94"
      },
      "execution_count": 55,
      "outputs": [
        {
          "output_type": "display_data",
          "data": {
            "text/html": [
              "<style>\n",
              ".list-inline {list-style: none; margin:0; padding: 0}\n",
              ".list-inline>li {display: inline-block}\n",
              ".list-inline>li:not(:last-child)::after {content: \"\\00b7\"; padding: 0 .5ex}\n",
              "</style>\n",
              "<ol class=list-inline><li>-5</li><li>-3</li><li>0</li><li>3</li><li>5</li></ol>\n"
            ],
            "text/markdown": "1. -5\n2. -3\n3. 0\n4. 3\n5. 5\n\n\n",
            "text/latex": "\\begin{enumerate*}\n\\item -5\n\\item -3\n\\item 0\n\\item 3\n\\item 5\n\\end{enumerate*}\n",
            "text/plain": [
              "[1] -5 -3  0  3  5"
            ]
          },
          "metadata": {}
        }
      ]
    },
    {
      "cell_type": "code",
      "source": [
        "sort(r, decreasing = TRUE)"
      ],
      "metadata": {
        "colab": {
          "base_uri": "https://localhost:8080/",
          "height": 34
        },
        "id": "uRWCY3lmZmYn",
        "outputId": "91b19d10-b001-4217-fed5-45c4d2837e31"
      },
      "execution_count": 56,
      "outputs": [
        {
          "output_type": "display_data",
          "data": {
            "text/html": [
              "<style>\n",
              ".list-inline {list-style: none; margin:0; padding: 0}\n",
              ".list-inline>li {display: inline-block}\n",
              ".list-inline>li:not(:last-child)::after {content: \"\\00b7\"; padding: 0 .5ex}\n",
              "</style>\n",
              "<ol class=list-inline><li>5</li><li>3</li><li>0</li><li>-3</li><li>-5</li></ol>\n"
            ],
            "text/markdown": "1. 5\n2. 3\n3. 0\n4. -3\n5. -5\n\n\n",
            "text/latex": "\\begin{enumerate*}\n\\item 5\n\\item 3\n\\item 0\n\\item -3\n\\item -5\n\\end{enumerate*}\n",
            "text/plain": [
              "[1]  5  3  0 -3 -5"
            ]
          },
          "metadata": {}
        }
      ]
    },
    {
      "cell_type": "markdown",
      "source": [
        "### 30. Using the same vector `r`, what will be the output of `order(r)`?"
      ],
      "metadata": {
        "id": "Y5eBgAzmZp7a"
      }
    },
    {
      "cell_type": "code",
      "source": [
        "order(r)"
      ],
      "metadata": {
        "colab": {
          "base_uri": "https://localhost:8080/",
          "height": 34
        },
        "id": "rN4izLfQZobQ",
        "outputId": "be5f02a7-6359-4202-eded-0105947f6728"
      },
      "execution_count": 57,
      "outputs": [
        {
          "output_type": "display_data",
          "data": {
            "text/html": [
              "<style>\n",
              ".list-inline {list-style: none; margin:0; padding: 0}\n",
              ".list-inline>li {display: inline-block}\n",
              ".list-inline>li:not(:last-child)::after {content: \"\\00b7\"; padding: 0 .5ex}\n",
              "</style>\n",
              "<ol class=list-inline><li>1</li><li>2</li><li>3</li><li>4</li><li>5</li></ol>\n"
            ],
            "text/markdown": "1. 1\n2. 2\n3. 3\n4. 4\n5. 5\n\n\n",
            "text/latex": "\\begin{enumerate*}\n\\item 1\n\\item 2\n\\item 3\n\\item 4\n\\item 5\n\\end{enumerate*}\n",
            "text/plain": [
              "[1] 1 2 3 4 5"
            ]
          },
          "metadata": {}
        }
      ]
    },
    {
      "cell_type": "markdown",
      "source": [
        "### 31. Given a vector `s` with values `[\"apple\", \"banana\", \"cherry\"]`, what will be the result of `sort(s)`?"
      ],
      "metadata": {
        "id": "tjRfo2LiZs1q"
      }
    },
    {
      "cell_type": "code",
      "source": [
        "s = c(\"apple\", \"banana\", \"cherry\")\n",
        "s"
      ],
      "metadata": {
        "colab": {
          "base_uri": "https://localhost:8080/",
          "height": 34
        },
        "id": "4CRL-Z_UZrMq",
        "outputId": "6d1e0427-aa4c-425d-f311-df2b4a9298ce"
      },
      "execution_count": 58,
      "outputs": [
        {
          "output_type": "display_data",
          "data": {
            "text/html": [
              "<style>\n",
              ".list-inline {list-style: none; margin:0; padding: 0}\n",
              ".list-inline>li {display: inline-block}\n",
              ".list-inline>li:not(:last-child)::after {content: \"\\00b7\"; padding: 0 .5ex}\n",
              "</style>\n",
              "<ol class=list-inline><li>'apple'</li><li>'banana'</li><li>'cherry'</li></ol>\n"
            ],
            "text/markdown": "1. 'apple'\n2. 'banana'\n3. 'cherry'\n\n\n",
            "text/latex": "\\begin{enumerate*}\n\\item 'apple'\n\\item 'banana'\n\\item 'cherry'\n\\end{enumerate*}\n",
            "text/plain": [
              "[1] \"apple\"  \"banana\" \"cherry\""
            ]
          },
          "metadata": {}
        }
      ]
    },
    {
      "cell_type": "code",
      "source": [
        "sort(s)"
      ],
      "metadata": {
        "colab": {
          "base_uri": "https://localhost:8080/",
          "height": 34
        },
        "id": "4FLWwFhVZvVS",
        "outputId": "3a2acd18-3437-45db-ec32-f359c277b78c"
      },
      "execution_count": 59,
      "outputs": [
        {
          "output_type": "display_data",
          "data": {
            "text/html": [
              "<style>\n",
              ".list-inline {list-style: none; margin:0; padding: 0}\n",
              ".list-inline>li {display: inline-block}\n",
              ".list-inline>li:not(:last-child)::after {content: \"\\00b7\"; padding: 0 .5ex}\n",
              "</style>\n",
              "<ol class=list-inline><li>'apple'</li><li>'banana'</li><li>'cherry'</li></ol>\n"
            ],
            "text/markdown": "1. 'apple'\n2. 'banana'\n3. 'cherry'\n\n\n",
            "text/latex": "\\begin{enumerate*}\n\\item 'apple'\n\\item 'banana'\n\\item 'cherry'\n\\end{enumerate*}\n",
            "text/plain": [
              "[1] \"apple\"  \"banana\" \"cherry\""
            ]
          },
          "metadata": {}
        }
      ]
    },
    {
      "cell_type": "markdown",
      "source": [
        "### 32. Using the same vector `s`, what will be the output of `order(s)`?"
      ],
      "metadata": {
        "id": "NYWMSYGHZyQW"
      }
    },
    {
      "cell_type": "code",
      "source": [
        "order(s)"
      ],
      "metadata": {
        "colab": {
          "base_uri": "https://localhost:8080/",
          "height": 34
        },
        "id": "GrjWCu6AZw2W",
        "outputId": "a0149525-5242-4fa0-a6f3-97285ea58719"
      },
      "execution_count": 60,
      "outputs": [
        {
          "output_type": "display_data",
          "data": {
            "text/html": [
              "<style>\n",
              ".list-inline {list-style: none; margin:0; padding: 0}\n",
              ".list-inline>li {display: inline-block}\n",
              ".list-inline>li:not(:last-child)::after {content: \"\\00b7\"; padding: 0 .5ex}\n",
              "</style>\n",
              "<ol class=list-inline><li>1</li><li>2</li><li>3</li></ol>\n"
            ],
            "text/markdown": "1. 1\n2. 2\n3. 3\n\n\n",
            "text/latex": "\\begin{enumerate*}\n\\item 1\n\\item 2\n\\item 3\n\\end{enumerate*}\n",
            "text/plain": [
              "[1] 1 2 3"
            ]
          },
          "metadata": {}
        }
      ]
    },
    {
      "cell_type": "markdown",
      "source": [
        "### 33. Consider a vector `t` with values `[5, 3, 4, 1, 2]`. If you want to get the second smallest value, which of the following codes will give the correct result?\n",
        "    a. `sort(t)[2]`\n",
        "    b. `order(t)[2]`\n",
        "    c. `t[order(t)[2]]`\n",
        "    d. `t[sort(t)[2]]`"
      ],
      "metadata": {
        "id": "uVT8dna0Z6Is"
      }
    },
    {
      "cell_type": "code",
      "source": [
        "t = c(5, 3, 4, 1, 2)\n",
        "t"
      ],
      "metadata": {
        "colab": {
          "base_uri": "https://localhost:8080/",
          "height": 34
        },
        "id": "FojuOKciZzYy",
        "outputId": "3ba72b94-fcc7-497a-c1fe-c4100cdb2103"
      },
      "execution_count": 61,
      "outputs": [
        {
          "output_type": "display_data",
          "data": {
            "text/html": [
              "<style>\n",
              ".list-inline {list-style: none; margin:0; padding: 0}\n",
              ".list-inline>li {display: inline-block}\n",
              ".list-inline>li:not(:last-child)::after {content: \"\\00b7\"; padding: 0 .5ex}\n",
              "</style>\n",
              "<ol class=list-inline><li>5</li><li>3</li><li>4</li><li>1</li><li>2</li></ol>\n"
            ],
            "text/markdown": "1. 5\n2. 3\n3. 4\n4. 1\n5. 2\n\n\n",
            "text/latex": "\\begin{enumerate*}\n\\item 5\n\\item 3\n\\item 4\n\\item 1\n\\item 2\n\\end{enumerate*}\n",
            "text/plain": [
              "[1] 5 3 4 1 2"
            ]
          },
          "metadata": {}
        }
      ]
    },
    {
      "cell_type": "code",
      "source": [
        "sort(t)[2]"
      ],
      "metadata": {
        "colab": {
          "base_uri": "https://localhost:8080/",
          "height": 34
        },
        "id": "GMhNYl91Z-15",
        "outputId": "8b277577-e765-4ff7-c07b-cd066c1597b9"
      },
      "execution_count": 62,
      "outputs": [
        {
          "output_type": "display_data",
          "data": {
            "text/html": [
              "2"
            ],
            "text/markdown": "2",
            "text/latex": "2",
            "text/plain": [
              "[1] 2"
            ]
          },
          "metadata": {}
        }
      ]
    },
    {
      "cell_type": "markdown",
      "source": [
        "### 34. Given a vector `u` with values `[2.5, 2.7, 2.3, 2.6]`, what will be the output of `order(u)`?"
      ],
      "metadata": {
        "id": "GGPPdDx2b_zt"
      }
    },
    {
      "cell_type": "code",
      "source": [
        "u = c(2.5, 2.7, 2.3, 2.6)\n",
        "u"
      ],
      "metadata": {
        "colab": {
          "base_uri": "https://localhost:8080/",
          "height": 34
        },
        "id": "YiyCKgffaCyY",
        "outputId": "875b7f2f-159d-4725-ef43-11c9b679e110"
      },
      "execution_count": 63,
      "outputs": [
        {
          "output_type": "display_data",
          "data": {
            "text/html": [
              "<style>\n",
              ".list-inline {list-style: none; margin:0; padding: 0}\n",
              ".list-inline>li {display: inline-block}\n",
              ".list-inline>li:not(:last-child)::after {content: \"\\00b7\"; padding: 0 .5ex}\n",
              "</style>\n",
              "<ol class=list-inline><li>2.5</li><li>2.7</li><li>2.3</li><li>2.6</li></ol>\n"
            ],
            "text/markdown": "1. 2.5\n2. 2.7\n3. 2.3\n4. 2.6\n\n\n",
            "text/latex": "\\begin{enumerate*}\n\\item 2.5\n\\item 2.7\n\\item 2.3\n\\item 2.6\n\\end{enumerate*}\n",
            "text/plain": [
              "[1] 2.5 2.7 2.3 2.6"
            ]
          },
          "metadata": {}
        }
      ]
    },
    {
      "cell_type": "code",
      "source": [
        "order(u)"
      ],
      "metadata": {
        "colab": {
          "base_uri": "https://localhost:8080/",
          "height": 34
        },
        "id": "iOCpXh7rcBoD",
        "outputId": "fd9dcb78-4a17-4dac-8f09-4c1a1bc30234"
      },
      "execution_count": 64,
      "outputs": [
        {
          "output_type": "display_data",
          "data": {
            "text/html": [
              "<style>\n",
              ".list-inline {list-style: none; margin:0; padding: 0}\n",
              ".list-inline>li {display: inline-block}\n",
              ".list-inline>li:not(:last-child)::after {content: \"\\00b7\"; padding: 0 .5ex}\n",
              "</style>\n",
              "<ol class=list-inline><li>3</li><li>1</li><li>4</li><li>2</li></ol>\n"
            ],
            "text/markdown": "1. 3\n2. 1\n3. 4\n4. 2\n\n\n",
            "text/latex": "\\begin{enumerate*}\n\\item 3\n\\item 1\n\\item 4\n\\item 2\n\\end{enumerate*}\n",
            "text/plain": [
              "[1] 3 1 4 2"
            ]
          },
          "metadata": {}
        }
      ]
    },
    {
      "cell_type": "markdown",
      "source": [
        "### 35. Using the same vector `u`, what will be the result of `sort(u, decreasing = TRUE)`?"
      ],
      "metadata": {
        "id": "-CHMhaidcMvQ"
      }
    },
    {
      "cell_type": "code",
      "source": [
        "sort(u, decreasing = TRUE)"
      ],
      "metadata": {
        "colab": {
          "base_uri": "https://localhost:8080/",
          "height": 34
        },
        "id": "9CGW3tA7cEy9",
        "outputId": "ae1a7e43-5770-44b9-f0b8-5a459db54ad3"
      },
      "execution_count": 65,
      "outputs": [
        {
          "output_type": "display_data",
          "data": {
            "text/html": [
              "<style>\n",
              ".list-inline {list-style: none; margin:0; padding: 0}\n",
              ".list-inline>li {display: inline-block}\n",
              ".list-inline>li:not(:last-child)::after {content: \"\\00b7\"; padding: 0 .5ex}\n",
              "</style>\n",
              "<ol class=list-inline><li>2.7</li><li>2.6</li><li>2.5</li><li>2.3</li></ol>\n"
            ],
            "text/markdown": "1. 2.7\n2. 2.6\n3. 2.5\n4. 2.3\n\n\n",
            "text/latex": "\\begin{enumerate*}\n\\item 2.7\n\\item 2.6\n\\item 2.5\n\\item 2.3\n\\end{enumerate*}\n",
            "text/plain": [
              "[1] 2.7 2.6 2.5 2.3"
            ]
          },
          "metadata": {}
        }
      ]
    },
    {
      "cell_type": "markdown",
      "source": [
        "### 36. Identify the error in the following code:\n",
        "\n",
        "```{R}\n",
        "vector <- c(1, 2, 3, 4, 5)\n",
        "sum(vector = vector)\n",
        "```"
      ],
      "metadata": {
        "id": "kKe4nmpxcSE0"
      }
    },
    {
      "cell_type": "code",
      "source": [
        "vector <- c(1, 2, 3, 4, 5)\n",
        "sum(vector = vector)"
      ],
      "metadata": {
        "colab": {
          "base_uri": "https://localhost:8080/",
          "height": 34
        },
        "id": "CyJegIH1cO8m",
        "outputId": "1d1050d1-6dfb-41cd-cc77-9ee4e8fded73"
      },
      "execution_count": 66,
      "outputs": [
        {
          "output_type": "display_data",
          "data": {
            "text/html": [
              "15"
            ],
            "text/markdown": "15",
            "text/latex": "15",
            "text/plain": [
              "[1] 15"
            ]
          },
          "metadata": {}
        }
      ]
    },
    {
      "cell_type": "markdown",
      "source": [
        "Nothing is wrong"
      ],
      "metadata": {
        "id": "tnYDx18BcWm7"
      }
    },
    {
      "cell_type": "markdown",
      "source": [
        "### 37. Spot the mistake in the code below:\n",
        "\n",
        "```{R}\n",
        "df <- data.frame(Name=c(\"Anna\", \"Bob\", \"Charlie\"), Age=c(25, 30, 35))\n",
        "df$Name[2]\n",
        "```"
      ],
      "metadata": {
        "id": "bweuoxBvccBx"
      }
    },
    {
      "cell_type": "code",
      "source": [
        "df <- data.frame(Name=c(\"Anna\", \"Bob\", \"Charlie\"), Age=c(25, 30, 35))\n",
        "df$Name[2]"
      ],
      "metadata": {
        "colab": {
          "base_uri": "https://localhost:8080/",
          "height": 34
        },
        "id": "dQRhjUQxcVBk",
        "outputId": "e36aaa43-fa1c-464f-c1f5-f71a89090fcc"
      },
      "execution_count": 67,
      "outputs": [
        {
          "output_type": "display_data",
          "data": {
            "text/html": [
              "'Bob'"
            ],
            "text/markdown": "'Bob'",
            "text/latex": "'Bob'",
            "text/plain": [
              "[1] \"Bob\""
            ]
          },
          "metadata": {}
        }
      ]
    },
    {
      "cell_type": "markdown",
      "source": [
        "Nothing is wrong"
      ],
      "metadata": {
        "id": "1uzuGr_7cej4"
      }
    },
    {
      "cell_type": "markdown",
      "source": [
        "### 38. What's wrong with the following code?\n",
        "```{R}\n",
        "x <- c(5, 10, 15, 20)\n",
        "mean(x, trim = 2)\n",
        "```"
      ],
      "metadata": {
        "id": "69Zc4lzmch0d"
      }
    },
    {
      "cell_type": "code",
      "source": [
        "x <- c(5, 10, 15, 20)\n",
        "mean(x, trim = 2)"
      ],
      "metadata": {
        "colab": {
          "base_uri": "https://localhost:8080/",
          "height": 34
        },
        "id": "46rvKlE6cd9G",
        "outputId": "b1c70185-3778-4509-b58a-bfbb529563bc"
      },
      "execution_count": 68,
      "outputs": [
        {
          "output_type": "display_data",
          "data": {
            "text/html": [
              "12.5"
            ],
            "text/markdown": "12.5",
            "text/latex": "12.5",
            "text/plain": [
              "[1] 12.5"
            ]
          },
          "metadata": {}
        }
      ]
    },
    {
      "cell_type": "markdown",
      "source": [
        "`trim` must be between 0 and 1."
      ],
      "metadata": {
        "id": "IaiNrWjfcliD"
      }
    },
    {
      "cell_type": "markdown",
      "source": [
        "### 39. Identify the issue in the following function call:\n",
        "\n",
        "```{R}\n",
        "seq(from = 1, to = 10, by = 0)\n",
        "```"
      ],
      "metadata": {
        "id": "ucnxFDs1crpE"
      }
    },
    {
      "cell_type": "markdown",
      "source": [
        "`by` cannot be zero"
      ],
      "metadata": {
        "id": "b7-Qy7FScySh"
      }
    },
    {
      "cell_type": "markdown",
      "source": [
        "### 40. Spot the mistake in this code:\n",
        "```{R}\n",
        "matrix <- matrix(1:12, nrow = 3)\n",
        "matrix[4, 2]\n",
        "```"
      ],
      "metadata": {
        "id": "Sct7QdCoczOd"
      }
    },
    {
      "cell_type": "markdown",
      "source": [
        "There are only 3 rows. So, 4 is a wrong row index"
      ],
      "metadata": {
        "id": "Eh-ACdVsc3WL"
      }
    }
  ]
}